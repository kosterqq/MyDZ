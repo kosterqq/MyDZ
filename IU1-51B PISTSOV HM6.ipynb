{
 "cells": [
  {
   "cell_type": "markdown",
   "metadata": {},
   "source": [
    "- Создайте класс Point(x, y) x, y - координаты точки на плоскости.\n",
    "- Реализуйте два метода a.distanceTo(b) - евкливодов расстояние между $a$ и $b$\n",
    "- Переопределите __str__ так чтобы при печати экземпляра выводилось (x, y) - то есть координаты точки"
   ]
  },
  {
   "cell_type": "code",
   "execution_count": 1,
   "metadata": {},
   "outputs": [
    {
     "name": "stdout",
     "output_type": "stream",
     "text": [
      "10.04987562112089\n",
      "(1,10)\n"
     ]
    }
   ],
   "source": [
    "class Point:\n",
    "    def __init__(self, x, y):\n",
    "        self.x = x\n",
    "        self.y = y\n",
    "    def distanceTo(self, koord):\n",
    "        return ((koord.x - self.x) ** 2 + (koord.y - self.y) ** 2) ** (1/2)\n",
    "    def __str__(self):\n",
    "        return \"(\" + str(self.x) + \",\" + str(self.y) +  \")\"\n",
    "a = Point(1, 10)\n",
    "b = Point (2, 20)\n",
    "print (a.distanceTo(b))\n",
    "print (a)"
   ]
  },
  {
   "cell_type": "code",
   "execution_count": null,
   "metadata": {},
   "outputs": [],
   "source": []
  },
  {
   "cell_type": "markdown",
   "metadata": {},
   "source": [
    "- После того как Вы создадите класс запустите следующий код"
   ]
  },
  {
   "cell_type": "code",
   "execution_count": 2,
   "metadata": {},
   "outputs": [],
   "source": [
    "import random\n",
    "random.seed(42)\n",
    "points = list()\n",
    "for i in range(1000):\n",
    "    x = random.randint(1, 100)\n",
    "    y = random.randint(1, 100)\n",
    "    points.append(Point(x, y))"
   ]
  },
  {
   "cell_type": "markdown",
   "metadata": {},
   "source": [
    "- Напишите метод, который определит у какой из заданых точек больше всего соседей в радиусе 5.\n",
    "- Если таких точек несколько, то тогда выведите точку с наименьше суммой координат, если таких точек несколько, то выведите точку с наименьше абсциссой."
   ]
  },
  {
   "cell_type": "code",
   "execution_count": 3,
   "metadata": {},
   "outputs": [
    {
     "name": "stdout",
     "output_type": "stream",
     "text": [
      "(12,61)\n"
     ]
    }
   ],
   "source": [
    "def func (p):\n",
    "    score = 0\n",
    "    max = 0\n",
    "    point = Point(0,0)\n",
    "    for i in range(len(p)):\n",
    "        score = 0\n",
    "        for j in range(len(p)):\n",
    "            if i != j:\n",
    "                if p[i].distanceTo(p[j]) <= 5:\n",
    "                    score += 1\n",
    "        if score > max:\n",
    "            max = score\n",
    "            point = p[i]\n",
    "        elif score == max:\n",
    "            point = sort (point, p[i])\n",
    "    print(point)\n",
    "def sort (x, y):\n",
    "    if (x.x + x.y) < (y.x + y.y):\n",
    "        return x\n",
    "    elif (x.x + x.y) > (y.x + y.y):\n",
    "        return y\n",
    "    elif (x.x + x.y) == (y.x + y.y):\n",
    "        if x.x < y.x:\n",
    "            return x\n",
    "        elif x.x > y.x:\n",
    "            return y\n",
    "func(points)"
   ]
  },
  {
   "cell_type": "code",
   "execution_count": null,
   "metadata": {},
   "outputs": [],
   "source": []
  }
 ],
 "metadata": {
  "kernelspec": {
   "display_name": "Python 3",
   "language": "python",
   "name": "python3"
  },
  "language_info": {
   "codemirror_mode": {
    "name": "ipython",
    "version": 3
   },
   "file_extension": ".py",
   "mimetype": "text/x-python",
   "name": "python",
   "nbconvert_exporter": "python",
   "pygments_lexer": "ipython3",
   "version": "3.8.8"
  }
 },
 "nbformat": 4,
 "nbformat_minor": 4
}
