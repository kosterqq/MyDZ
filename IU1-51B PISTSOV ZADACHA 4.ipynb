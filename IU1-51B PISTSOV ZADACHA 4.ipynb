{
 "cells": [
  {
   "cell_type": "code",
   "execution_count": 1,
   "id": "2b080cfa",
   "metadata": {},
   "outputs": [
    {
     "name": "stdout",
     "output_type": "stream",
     "text": [
      "вероятность выиграть = 0.3650676\n"
     ]
    }
   ],
   "source": [
    "import random\n",
    "win=0\n",
    "n=10000000   #чем больше n, тем точнее вероятность\n",
    "for i in range(n):\n",
    "    kost1 = random.randint(1, 6)\n",
    "    kost2 = random.randint(1, 6)\n",
    "    sum = kost1+kost2\n",
    "    if sum == 7 or sum == 11:\n",
    "        win+=1\n",
    "    elif sum == 2 or sum == 3 or sum ==12:\n",
    "        continue\n",
    "    else:\n",
    "        while True:\n",
    "            kost1 = random.randint(1, 6)\n",
    "            kost2 = random.randint(1, 6)\n",
    "            sum = kost1+kost2\n",
    "            if sum == 7:\n",
    "                win+=1\n",
    "                break\n",
    "            elif sum ==4 or sum ==5 or sum ==6 or sum==8 or sum==9 or sum== 12:\n",
    "                break\n",
    "print (\"вероятность выиграть =\", win/n)"
   ]
  },
  {
   "cell_type": "code",
   "execution_count": null,
   "id": "7fa041dd",
   "metadata": {},
   "outputs": [],
   "source": []
  }
 ],
 "metadata": {
  "kernelspec": {
   "display_name": "Python 3",
   "language": "python",
   "name": "python3"
  },
  "language_info": {
   "codemirror_mode": {
    "name": "ipython",
    "version": 3
   },
   "file_extension": ".py",
   "mimetype": "text/x-python",
   "name": "python",
   "nbconvert_exporter": "python",
   "pygments_lexer": "ipython3",
   "version": "3.8.8"
  }
 },
 "nbformat": 4,
 "nbformat_minor": 5
}
