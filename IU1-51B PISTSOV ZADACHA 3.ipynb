{
 "cells": [
  {
   "cell_type": "code",
   "execution_count": 1,
   "id": "02862e56",
   "metadata": {},
   "outputs": [
    {
     "name": "stdout",
     "output_type": "stream",
     "text": [
      "вероятность для суммы 2 равны у обеих пар костей\n",
      "вероятность для суммы 3 равны у обеих пар костей\n",
      "вероятность для суммы 4 равны у обеих пар костей\n",
      "вероятность для суммы 5 равны у обеих пар костей\n",
      "вероятность для суммы 6 равны у обеих пар костей\n",
      "вероятность для суммы 7 равны у обеих пар костей\n",
      "вероятность для суммы 8 равны у обеих пар костей\n",
      "вероятность для суммы 9 равны у обеих пар костей\n",
      "вероятность для суммы 10 равны у обеих пар костей\n",
      "вероятность для суммы 11 равны у обеих пар костей\n",
      "вероятность для суммы 12 равны у обеих пар костей\n"
     ]
    }
   ],
   "source": [
    "kost1=[1,3,4,5,6,8]\n",
    "kost2=[1,2,2,3,3,4]\n",
    "arr=[] \n",
    "for i in range(len(kost1)):\n",
    "    for j in range(len(kost2)):\n",
    "        sum = kost1[i]+kost2[j]\n",
    "        arr.append(sum)  # записываем в пустой массив значения полученных сумм\n",
    "kolvo=[]\n",
    "for i in range (2,13):\n",
    "    kolvo.append(arr.count(i)) # записываем в пустой массив кол-во повторений сумм от 2 до 12\n",
    "kost3=[1,2,3,4,5,6]  # аналогично все делаем для обычных костей\n",
    "kost4=[1,2,3,4,5,6]\n",
    "arr2=[]\n",
    "for i in range(len(kost3)):\n",
    "    for j in range(len(kost4)):\n",
    "        sum = kost3[i]+kost4[j]\n",
    "        arr2.append(sum)\n",
    "kolvo2=[]\n",
    "for i in range (2,13):\n",
    "    kolvo2.append(arr2.count(i))\n",
    "for i in range(len(kolvo)): # сравниваем кол-во повторений для разных пар костей\n",
    "    if kolvo[i]==kolvo2[i]:\n",
    "        print(\"вероятность для суммы\", i+2,\"равны у обеих пар костей\")\n",
    "    elif kolvo[i]>kolvo2[i]:\n",
    "        print (\"вероятность для суммы\", i+2, \"меньше у обычных игральных костей\")\n",
    "    else:\n",
    "        print (\"вероятность для суммы\", i+2, \"больше у обычных игральных костей\")"
   ]
  },
  {
   "cell_type": "code",
   "execution_count": null,
   "id": "4948c53d",
   "metadata": {},
   "outputs": [],
   "source": []
  },
  {
   "cell_type": "code",
   "execution_count": null,
   "id": "14b6735e",
   "metadata": {},
   "outputs": [],
   "source": []
  }
 ],
 "metadata": {
  "kernelspec": {
   "display_name": "Python 3",
   "language": "python",
   "name": "python3"
  },
  "language_info": {
   "codemirror_mode": {
    "name": "ipython",
    "version": 3
   },
   "file_extension": ".py",
   "mimetype": "text/x-python",
   "name": "python",
   "nbconvert_exporter": "python",
   "pygments_lexer": "ipython3",
   "version": "3.8.8"
  }
 },
 "nbformat": 4,
 "nbformat_minor": 5
}
